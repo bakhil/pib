{
 "cells": [
  {
   "cell_type": "code",
   "execution_count": 1,
   "metadata": {},
   "outputs": [],
   "source": [
    "import torch\n",
    "import matplotlib.pyplot as plt\n",
    "from model import PIBFilTransformer\n",
    "from dataset import PIBDataset\n",
    "from torch.utils.data import DataLoader\n",
    "import lightning as L"
   ]
  },
  {
   "cell_type": "code",
   "execution_count": 2,
   "metadata": {},
   "outputs": [],
   "source": [
    "data_filename = 'data/test/streaming/test.json'\n",
    "# data_filename = 'data/person-in-bed-streaming-detection/train.json'\n",
    "# checkpoint_path = 'results/transformer-cc/lightning_logs/version_15967234/checkpoints/epoch=9-step=241990.ckpt'\n",
    "# checkpoint_path = 'results/transformer/lightning_logs/version_9156/checkpoints/epoch=19-step=483000.ckpt'\n",
    "checkpoint_path = 'results/transformer/lightning_logs/version_16323998/checkpoints/epoch=2-step=72450.ckpt'\n",
    "\n",
    "train_validate_test_split = [0, 1, 0]\n",
    "\n",
    "pib_model = PIBFilTransformer.load_from_checkpoint(checkpoint_path)\n",
    "pib_model.eval()\n",
    "\n",
    "dataset_val = PIBDataset(mode='validate', data_path=data_filename, train_validate_test_split=train_validate_test_split)\n",
    "loader_val = DataLoader(dataset_val, batch_size=256, shuffle=False)"
   ]
  },
  {
   "cell_type": "code",
   "execution_count": null,
   "metadata": {},
   "outputs": [],
   "source": [
    "print(len(dataset_val))"
   ]
  },
  {
   "cell_type": "code",
   "execution_count": null,
   "metadata": {},
   "outputs": [],
   "source": [
    "trainer = L.Trainer(default_root_dir='results/transformer', enable_checkpointing=False, logger=False)\n",
    "returned_values = trainer.predict(pib_model, loader_val, ckpt_path=checkpoint_path, return_predictions=True)\n",
    "outputs = torch.cat([returned_value[0] for returned_value in returned_values], dim=0)\n",
    "labels = torch.cat([returned_value[1] for returned_value in returned_values], dim=0)\n",
    "model_llrs = torch.cat([returned_value[2] for returned_value in returned_values], dim=0)\n",
    "ts_list = torch.cat([returned_value[3] for returned_value in returned_values], dim=0)\n",
    "prev_sums = torch.cat([returned_value[4] for returned_value in returned_values], dim=0)\n",
    "subjects = torch.cat([returned_value[5] for returned_value in returned_values], dim=0)\n",
    "# chunk_ids = torch.cat([returned_value[6] for returned_value in returned_values], dim=0)\n",
    "chunk_ids = torch.arange(len(ts_list))"
   ]
  },
  {
   "cell_type": "code",
   "execution_count": 5,
   "metadata": {},
   "outputs": [],
   "source": [
    "output_filename = 'streaming_test_output.csv'\n",
    "with open(output_filename, 'w') as f:\n",
    "    print('id,subject,timestamp,label', file=f)\n",
    "    # print('chunk_id,label')\n",
    "    id = 0\n",
    "    for i in range(len(chunk_ids)):\n",
    "        for j in range(len(ts_list[i])):\n",
    "            if ts_list[i][j] < 0:\n",
    "                break\n",
    "            print(f'{id},{int(subjects[i])},{ts_list[i][j].item()},{outputs[i][j].item()}', file=f)\n",
    "            id += 1"
   ]
  },
  {
   "cell_type": "code",
   "execution_count": null,
   "metadata": {},
   "outputs": [],
   "source": [
    "new_outputs = outputs\n",
    "avg_latency_list = []\n",
    "latency_lists = []\n",
    "for i in range(len(new_outputs)):\n",
    "    transitions = torch.arange(1, len(new_outputs[i]), device=new_outputs.device, dtype=torch.long)[(labels[i][1:] - labels[i][:-1]) != 0]\n",
    "    latency_list = []\n",
    "    for j in transitions:\n",
    "        if ts_list[i][j] < 0:\n",
    "            break\n",
    "        k = int(j + 0)   # k gets assigned to j's pointer and changes j otherwise\n",
    "        while k < len(new_outputs[i]):\n",
    "            if torch.mean((new_outputs[i][k:k+15*250+1] == labels[i][j])*1.0) == 1.:\n",
    "                break\n",
    "            k += 1\n",
    "        latency_list.append((k - j) / 250.)\n",
    "    if len(latency_list) > 0:\n",
    "        avg_latency_list.append(torch.mean(torch.tensor(latency_list)))\n",
    "        latency_lists.append(latency_list)"
   ]
  },
  {
   "cell_type": "code",
   "execution_count": null,
   "metadata": {},
   "outputs": [],
   "source": [
    "add_to_list = []\n",
    "for latency_list in latency_lists:\n",
    "    for latency in latency_list:\n",
    "        add_to_list.append(torch.exp(-2.*torch.pow(torch.log(1.-latency/60.), 2)))\n",
    "print(torch.mean(torch.tensor(add_to_list)))"
   ]
  },
  {
   "cell_type": "code",
   "execution_count": null,
   "metadata": {},
   "outputs": [],
   "source": [
    "i = torch.randint(0, len(outputs), (1,)).item()\n",
    "i = 9\n",
    "fig, axs = plt.subplots(1, 2, squeeze=False, figsize=(15, 5))\n",
    "axs[0, 0].plot(torch.arange(len(outputs[i][ts_list[i] >= 0.]))/250., model_llrs[i][ts_list[i] >= 0.], label='LLRs')\n",
    "axs[0, 0].plot(torch.arange(len(labels[i][ts_list[i] >= 0.]))/250., prev_sum_new[i][ts_list[i] >= 0.], label='Avg LLRs')\n",
    "# axs[0, 0].plot(torch.arange(len(labels[i][ts_list[i] >= 0.]))/250., new_outputs[i][ts_list[i] >= 0.], label='Outputs')\n",
    "axs[0, 0].legend(fontsize='x-large')\n",
    "axs[0, 0].grid()\n",
    "axs[0, 0].set_xlabel('Time (s)', fontsize='x-large')\n",
    "axs[0, 0].set_ylabel('Prediction', fontsize='x-large')\n",
    "axs[0, 0].set_title(f'Index i = {i}', fontsize='x-large')\n",
    "\n",
    "axs[0, 1].plot(torch.arange(len(outputs[i][ts_list[i] >= 0.]))/250., labels[i][ts_list[i] >= 0.], label='Original')\n",
    "axs[0, 1].plot(torch.arange(len(labels[i][ts_list[i] >= 0.]))/250., new_outputs[i][ts_list[i] >= 0.], label='Output')\n",
    "axs[0, 1].legend(fontsize='x-large')\n",
    "axs[0, 1].grid()\n",
    "# axs[0, 1].set_xlim([700., 760.])\n",
    "axs[0, 1].set_xlabel('Time (s)', fontsize='x-large')\n",
    "axs[0, 1].set_ylabel('Prediction', fontsize='x-large')\n",
    "axs[0, 1].set_title(f'Index i = {i}', fontsize='x-large')\n",
    "\n",
    "plt.show()"
   ]
  },
  {
   "cell_type": "code",
   "execution_count": null,
   "metadata": {},
   "outputs": [],
   "source": [
    "delta = torch.arange(0., 59.9, 0.01)\n",
    "metric = torch.exp(-2.*(torch.log(1-delta/60.))**2)\n",
    "plt.plot(delta, metric)\n",
    "plt.grid()\n",
    "plt.xlim([0., 10.])\n",
    "plt.ylim([0.9, 1.])\n",
    "plt.show()"
   ]
  }
 ],
 "metadata": {
  "kernelspec": {
   "display_name": "pib-venv",
   "language": "python",
   "name": "pib-venv"
  },
  "language_info": {
   "codemirror_mode": {
    "name": "ipython",
    "version": 3
   },
   "file_extension": ".py",
   "mimetype": "text/x-python",
   "name": "python",
   "nbconvert_exporter": "python",
   "pygments_lexer": "ipython3",
   "version": "3.12.4"
  }
 },
 "nbformat": 4,
 "nbformat_minor": 2
}
